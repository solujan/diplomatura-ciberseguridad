{
 "cells": [
  {
   "cell_type": "code",
   "execution_count": 1,
   "metadata": {
    "executionInfo": {
     "elapsed": 265,
     "status": "ok",
     "timestamp": 1697011744703,
     "user": {
      "displayName": "sofia lujan",
      "userId": "04644358706352499859"
     },
     "user_tz": -60
    },
    "id": "1dCAIz1yvaxG"
   },
   "outputs": [],
   "source": [
    "import requests\n",
    "import base64\n",
    "import urllib\n",
    "from sha256 import SHA256\n",
    "import os\n",
    "import sha256sum"
   ]
  },
  {
   "cell_type": "code",
   "execution_count": 2,
   "metadata": {
    "colab": {
     "base_uri": "https://localhost:8080/"
    },
    "executionInfo": {
     "elapsed": 1467,
     "status": "ok",
     "timestamp": 1697011750157,
     "user": {
      "displayName": "sofia lujan",
      "userId": "04644358706352499859"
     },
     "user_tz": -60
    },
    "id": "aJIE736_vvHx",
    "outputId": "64339436-0862-4938-ead7-a00c831e5556"
   },
   "outputs": [
    {
     "data": {
      "text/plain": [
       "b'user=solujan@gmail.com&action=show&mac=4bb1e69e282cd62a9b8c87d199d30d0813dce6261b6f9d632b39749135f63381'"
      ]
     },
     "execution_count": 2,
     "metadata": {},
     "output_type": "execute_result"
    }
   ],
   "source": [
    "email = 'solujan@gmail.com'\n",
    "url = f'https://ciberseguridad.diplomatura.unc.edu.ar/cripto/secret-prefix-mac/{email}/challenge'\n",
    "# Solicitud\n",
    "request = requests.get(url)\n",
    "# Body de la respuesta\n",
    "message = request.content\n",
    "message"
   ]
  },
  {
   "cell_type": "markdown",
   "metadata": {
    "id": "ryy2Yn0fwHMp"
   },
   "source": [
    "Vemos que en este ejemplo hay tres pares clave-valor:\n",
    "\n",
    "* user=solujan@gmail.com\n",
    "* action=show\n",
    "* mac=4bb1e69e282cd62a9b8c87d199d30d0813dce6261b6f9d632b39749135f63381\n",
    "\n",
    "**Objetivo : La falsificación debe ser una query string válida que incluya el par admin=true.**\n",
    "\n"
   ]
  },
  {
   "cell_type": "markdown",
   "metadata": {
    "id": "ARQd0uG9wlsu"
   },
   "source": [
    "* Para calcular el MAC, se construye un mensaje formado por la concatenación del resto de los pares clave-valor, ordenados alfabéticamente por clave, y eliminando los símbolos = y &. En el caso anterior, el mensaje sería:\n",
    "\n",
    "```\n",
    "actionshowuseruser@example.com\n",
    "```\n",
    "\n",
    "* Sobre este mensaje se calcula un MAC de la siguiente forma:\n",
    "\n",
    "```\n",
    "MAC = SHA-256(secreto || mensaje)\n",
    "```\n",
    "\n",
    "donde:\n",
    "\n",
    "* mensaje es el mensaje conformado como se describe más arriba.\n",
    "* secreto es una clave secreta de 16 bytes.\n",
    "* || denota concatenación"
   ]
  },
  {
   "cell_type": "code",
   "execution_count": 3,
   "metadata": {
    "colab": {
     "base_uri": "https://localhost:8080/"
    },
    "executionInfo": {
     "elapsed": 275,
     "status": "ok",
     "timestamp": 1697012542541,
     "user": {
      "displayName": "sofia lujan",
      "userId": "04644358706352499859"
     },
     "user_tz": -60
    },
    "id": "OuiCQYbpbzE9",
    "outputId": "457524a0-778c-4c48-910c-c2d418fcd3d0"
   },
   "outputs": [
    {
     "data": {
      "text/plain": [
       "b'4bb1e69e282cd62a9b8c87d199d30d0813dce6261b6f9d632b39749135f63381'"
      ]
     },
     "execution_count": 3,
     "metadata": {},
     "output_type": "execute_result"
    }
   ],
   "source": [
    "original_mac = message[39:]\n",
    "original_mac"
   ]
  },
  {
   "cell_type": "code",
   "execution_count": 4,
   "metadata": {
    "colab": {
     "base_uri": "https://localhost:8080/",
     "height": 35
    },
    "executionInfo": {
     "elapsed": 11,
     "status": "ok",
     "timestamp": 1697012544560,
     "user": {
      "displayName": "sofia lujan",
      "userId": "04644358706352499859"
     },
     "user_tz": -60
    },
    "id": "36XEV32rv_HB",
    "outputId": "8153c923-70f6-4e40-c6f0-fa3b4f90c325"
   },
   "outputs": [
    {
     "data": {
      "application/vnd.google.colaboratory.intrinsic+json": {
       "type": "string"
      },
      "text/plain": [
       "'actionshowusersolujan@gmail.com'"
      ]
     },
     "execution_count": 4,
     "metadata": {},
     "output_type": "execute_result"
    }
   ],
   "source": [
    "mensaje = message[:34].decode()\n",
    "\n",
    "mensaje = mensaje.split(\"&\")\n",
    "mensaje_sorted = sorted(mensaje)\n",
    "mensaje_clean = \"\".join(mensaje_sorted).replace(\"=\", \"\")\n",
    "mensaje_clean"
   ]
  },
  {
   "cell_type": "code",
   "execution_count": 5,
   "metadata": {
    "colab": {
     "base_uri": "https://localhost:8080/"
    },
    "executionInfo": {
     "elapsed": 290,
     "status": "ok",
     "timestamp": 1697012549205,
     "user": {
      "displayName": "sofia lujan",
      "userId": "04644358706352499859"
     },
     "user_tz": -60
    },
    "id": "vJCYrIcq0I8M",
    "outputId": "82e469e9-8a70-4771-b043-bfcddba3c57f"
   },
   "outputs": [
    {
     "data": {
      "text/plain": [
       "b'actionshowusersolujan@gmail.com'"
      ]
     },
     "execution_count": 5,
     "metadata": {},
     "output_type": "execute_result"
    }
   ],
   "source": [
    "mensaje_bytes = mensaje_clean.encode()\n",
    "mensaje_bytes"
   ]
  },
  {
   "cell_type": "code",
   "execution_count": 22,
   "metadata": {
    "colab": {
     "base_uri": "https://localhost:8080/"
    },
    "executionInfo": {
     "elapsed": 260,
     "status": "ok",
     "timestamp": 1697014388566,
     "user": {
      "displayName": "sofia lujan",
      "userId": "04644358706352499859"
     },
     "user_tz": -60
    },
    "id": "8EV2Rga260Da",
    "outputId": "bcaf5070-c1f8-424b-8fe8-8d49f0ad2980"
   },
   "outputs": [
    {
     "data": {
      "text/plain": [
       "31"
      ]
     },
     "execution_count": 22,
     "metadata": {},
     "output_type": "execute_result"
    }
   ],
   "source": [
    "len(mensaje_bytes)"
   ]
  },
  {
   "cell_type": "code",
   "execution_count": 50,
   "metadata": {
    "colab": {
     "base_uri": "https://localhost:8080/"
    },
    "executionInfo": {
     "elapsed": 9,
     "status": "ok",
     "timestamp": 1697015453346,
     "user": {
      "displayName": "sofia lujan",
      "userId": "04644358706352499859"
     },
     "user_tz": -60
    },
    "id": "WakJgNuwAMJi",
    "outputId": "82333e3c-5fa3-4bb8-ec32-6b59245563f5"
   },
   "outputs": [
    {
     "data": {
      "text/plain": [
       "64"
      ]
     },
     "execution_count": 50,
     "metadata": {},
     "output_type": "execute_result"
    }
   ],
   "source": [
    "len(original_mac)"
   ]
  },
  {
   "cell_type": "markdown",
   "metadata": {
    "id": "C0EzEJax6wRF"
   },
   "source": [
    "La longitud del mensaje original es de 31 bytes (31 * 8 = 248 bits)\n",
    "\n",
    "Hay que completar el bloque de 64 bytes (512 bits)\n",
    "\n",
    "Para ello es necesario agregar un 1 y luego completar con 0 hasta los"
   ]
  },
  {
   "cell_type": "code",
   "execution_count": 64,
   "metadata": {
    "executionInfo": {
     "elapsed": 240,
     "status": "ok",
     "timestamp": 1697018936875,
     "user": {
      "displayName": "sofia lujan",
      "userId": "04644358706352499859"
     },
     "user_tz": -60
    },
    "id": "PHqpvUjneoVd"
   },
   "outputs": [],
   "source": [
    "def pad(message):\n",
    "  #suponemos que mensaje secreto tiene len dinamico:\n",
    "  # | ? | ? | ? | ? | a | c | t | i | o | n | s | h | o |... | o | m | 80 | 0 | 0 | 0 | 0 | ... | len_total\n",
    "  key_len_bytes = 16\n",
    "  message_len_bytes = len(message)\n",
    "  len_total_bits = (message_len_bytes + key_len_bytes)*8\n",
    "  len_bytes = len_total_bits.to_bytes(2, byteorder = 'big')\n",
    "\n",
    "  padded = message + b'\\x80'.ljust(62- (len(message) + 16), b'\\x00') + b'\\x01' + b'\\x78'\n",
    "  print(f'padded: {padded}\\nlen_bytes: {len_bytes.hex()}\\nlen {len(padded)+16}\\n{len_total_bits}')\n",
    "  return padded"
   ]
  },
  {
   "cell_type": "code",
   "execution_count": 65,
   "metadata": {
    "colab": {
     "base_uri": "https://localhost:8080/",
     "height": 105
    },
    "executionInfo": {
     "elapsed": 274,
     "status": "ok",
     "timestamp": 1697018943104,
     "user": {
      "displayName": "sofia lujan",
      "userId": "04644358706352499859"
     },
     "user_tz": -60
    },
    "id": "bGHKscOUYGwM",
    "outputId": "fa19ff99-6d26-40f4-bc08-bfbe41927987"
   },
   "outputs": [
    {
     "name": "stdout",
     "output_type": "stream",
     "text": [
      "padded: b'actionshowusersolujan@gmail.com\\x80\\x00\\x00\\x00\\x00\\x00\\x00\\x00\\x00\\x00\\x00\\x00\\x00\\x00\\x00\\x01x'\n",
      "len_bytes: 0178\n",
      "len 64\n",
      "376\n"
     ]
    },
    {
     "data": {
      "application/vnd.google.colaboratory.intrinsic+json": {
       "type": "string"
      },
      "text/plain": [
       "'e02f8dfab0e2cc8ec783399655b4d534553a563f223cf5a39e484ac9a94cb011'"
      ]
     },
     "execution_count": 65,
     "metadata": {},
     "output_type": "execute_result"
    }
   ],
   "source": [
    "#original_hash = sha256sum.SHA256(mensaje_bytes).digest()\n",
    "padded = pad(mensaje_bytes)\n",
    "extension = b'admintrueusersolujan@gmail.com'\n",
    "new_mac = sha256sum.SHA256(extension, original_mac, len(padded)+16).digest()\n",
    "#expected = sha256sum.SHA256(padded + extension).digest()\n",
    "#print(expected.hex())\n",
    "\n",
    "new_mac.hex()"
   ]
  },
  {
   "cell_type": "code",
   "execution_count": 66,
   "metadata": {
    "colab": {
     "base_uri": "https://localhost:8080/"
    },
    "executionInfo": {
     "elapsed": 1211,
     "status": "ok",
     "timestamp": 1697018946975,
     "user": {
      "displayName": "sofia lujan",
      "userId": "04644358706352499859"
     },
     "user_tz": -60
    },
    "id": "_a8hKLOqJkVG",
    "outputId": "5d088315-3e15-4f91-8ee2-a6cd6b063b2d"
   },
   "outputs": [
    {
     "name": "stdout",
     "output_type": "stream",
     "text": [
      "https://ciberseguridad.diplomatura.unc.edu.ar/cripto/secret-prefix-mac/solujan@gmail.com/answer?a=ctionshowusersolujan%40gmail.com%80%00%00%00%00%00%00%00%00%00%00%00%00%00%00%01x&admin=true&user=solujan%40gmail.com&mac=e02f8dfab0e2cc8ec783399655b4d534553a563f223cf5a39e484ac9a94cb011\n",
      "b'Lo siento, siga participando.\\n'\n"
     ]
    }
   ],
   "source": [
    "url_respo = 'https://ciberseguridad.diplomatura.unc.edu.ar/cripto/secret-prefix-mac/solujan@gmail.com/answer'\n",
    "params = dict()\n",
    "params['a'] = padded[1:]\n",
    "params['admin'] = 'true'\n",
    "params['user'] = 'solujan@gmail.com'\n",
    "params['mac'] = new_mac.hex()\n",
    "\n",
    "\n",
    "r = requests.get(url_respo, params=params)\n",
    "print(r.url)\n",
    "print(r.content)"
   ]
  },
  {
   "cell_type": "code",
   "execution_count": null,
   "metadata": {
    "id": "nPwwPeYZ_bND"
   },
   "outputs": [],
   "source": [
    "\n"
   ]
  },
  {
   "cell_type": "code",
   "execution_count": 67,
   "metadata": {
    "colab": {
     "base_uri": "https://localhost:8080/"
    },
    "executionInfo": {
     "elapsed": 256,
     "status": "ok",
     "timestamp": 1697019224167,
     "user": {
      "displayName": "sofia lujan",
      "userId": "04644358706352499859"
     },
     "user_tz": -60
    },
    "id": "eqBpUIgzbvSe",
    "outputId": "dd226580-5f58-4919-ebc7-6199bca5d70d"
   },
   "outputs": [
    {
     "name": "stdout",
     "output_type": "stream",
     "text": [
      "padded: b'actionshowusersolujan@gmail.com\\x80\\x00\\x00\\x00\\x00\\x00\\x00\\x00\\x00\\x00\\x00\\x00\\x00\\x00\\x00\\x01x'\n",
      "len_bytes: 0178\n",
      "len 64\n",
      "376\n",
      "8f2179558214d52818a6e5f3a30c5c3b7406de9f3b7cd94844ffe40f109221d0\n",
      "9b7f0c72598c238f37b51842fa7a2ea253dcd0b70ae540fbb7f7b5cd0bb74b7a\n",
      "9b7f0c72598c238f37b51842fa7a2ea253dcd0b70ae540fbb7f7b5cd0bb74b7a\n"
     ]
    }
   ],
   "source": [
    "# MAC = SHA-256(secreto || mensaje)\n",
    "original_hash = sha256sum.SHA256(b'1234567891234567'+mensaje_bytes).digest()\n",
    "# padded es el relleno (padding) que debió aplicar la función de hash sobre el mensaje original,\n",
    "# y en el cual está codificada la longitud del mensaje al cual se aplicó dicha función (lo cual incluye la\n",
    "# longitud del secreto). Como se trata de SHA-256 la longitud está expresada como un número de 64 bits utilizando\n",
    "# la convención big endian, ocupando los últimos 8 bytes del relleno.\n",
    "padded = pad(mensaje_bytes)\n",
    "# extension es el mensaje agregado.\n",
    "extension = b'admintrueusersolujan@gmail.com'\n",
    "# Nuevo_MAC = SHA-256'(extension, MAC, longitud)\n",
    "new_mac = sha256sum.SHA256(extension, original_hash, len(padded)+16).digest()\n",
    "# Tiene que ser igual a aplicar sha256 del secreto + padded + extension\n",
    "expected = sha256sum.SHA256( b'1234567891234567'+padded + extension).digest()\n",
    "print(original_hash.hex())\n",
    "print(expected.hex())\n",
    "print(new_mac.hex())"
   ]
  },
  {
   "cell_type": "code",
   "execution_count": null,
   "metadata": {
    "colab": {
     "base_uri": "https://localhost:8080/"
    },
    "executionInfo": {
     "elapsed": 8,
     "status": "ok",
     "timestamp": 1694389860925,
     "user": {
      "displayName": "sofia lujan",
      "userId": "04644358706352499859"
     },
     "user_tz": 180
    },
    "id": "jKe4a-JFgK7K",
    "outputId": "352a4d7a-e568-46da-f009-e3bcd912c06a"
   },
   "outputs": [
    {
     "data": {
      "text/plain": [
       "16"
      ]
     },
     "execution_count": 20,
     "metadata": {},
     "output_type": "execute_result"
    }
   ],
   "source": []
  },
  {
   "cell_type": "code",
   "execution_count": null,
   "metadata": {
    "id": "u2mzUPcIgXbZ"
   },
   "outputs": [],
   "source": []
  }
 ],
 "metadata": {
  "colab": {
   "authorship_tag": "ABX9TyNem9JVjYMoGBIZaxY55OK+",
   "provenance": []
  },
  "kernelspec": {
   "display_name": "Python 3",
   "language": "python",
   "name": "python3"
  },
  "language_info": {
   "codemirror_mode": {
    "name": "ipython",
    "version": 3
   },
   "file_extension": ".py",
   "mimetype": "text/x-python",
   "name": "python",
   "nbconvert_exporter": "python",
   "pygments_lexer": "ipython3",
   "version": "3.8.5"
  }
 },
 "nbformat": 4,
 "nbformat_minor": 4
}
